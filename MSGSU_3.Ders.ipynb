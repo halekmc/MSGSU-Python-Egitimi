{
  "nbformat": 4,
  "nbformat_minor": 0,
  "metadata": {
    "colab": {
      "provenance": []
    },
    "kernelspec": {
      "name": "python3",
      "display_name": "Python 3"
    },
    "language_info": {
      "name": "python"
    }
  },
  "cells": [
    {
      "cell_type": "code",
      "execution_count": 29,
      "metadata": {
        "colab": {
          "base_uri": "https://localhost:8080/"
        },
        "id": "3jvo45-rJV_S",
        "outputId": "cf1e7082-6e36-4f98-f196-46e1a4bca8ac"
      },
      "outputs": [
        {
          "output_type": "stream",
          "name": "stdout",
          "text": [
            "Merhaba fonskiyonlar\n",
            "MSGSUÜniversitesi\n",
            "ODTÜÜniversitesi\n",
            "Antalya Akdeniz\n",
            "Denize kıyısı olan sehirAntalya\n",
            "Denize kıyısı olan sehirAntalya\n",
            "isim: Ayse\n",
            "yas: 25\n",
            "sehir: istanbul\n",
            "Benim ülkem Turkiye\n",
            "Benim ülkem İspanya\n",
            "pilav\n",
            "makarna\n",
            "kebap\n",
            "15\n",
            "3\n"
          ]
        }
      ],
      "source": [
        "def my_function():\n",
        "  print(\"Merhaba fonskiyonlar\")\n",
        "\n",
        "my_function()\n",
        "\n",
        "def my_function2(okul):\n",
        "  print(okul + \"Üniversitesi\")\n",
        "\n",
        "my_function2(\"MSGSU\")\n",
        "my_function2(\"ODTÜ\")\n",
        "\n",
        "def my_function3(sehir, okul):\n",
        "  print(sehir + \" \" + okul) #tırnak boşluk için\n",
        "\n",
        "my_function3(\"Antalya\", \"Akdeniz\")\n",
        "\n",
        "\n",
        "#*args\n",
        "\n",
        "def my_function4(*sehir):\n",
        "  print(\"Denize kıyısı olan sehir\" + sehir[2])\n",
        "\n",
        "my_function4(\"Konya\", \"Corum\", \"Antalya\")\n",
        "\n",
        "def my_function5(sehir3, sehir2, sehir1):\n",
        "  print(\"Denize kıyısı olan sehir\" + sehir3)\n",
        "\n",
        "my_function5(sehir1=\"Konya\", sehir2=\"Corum\", sehir3=\"Antalya\")\n",
        "\n",
        "#**kwargs = dictionary yapıları tutmayı sağlıyor\n",
        "\n",
        "def my_function6(**kwargs):\n",
        "  for anahtar, deger in kwargs.items():\n",
        "    print(f\"{anahtar}: {deger}\")\n",
        "\n",
        "my_function6(isim=\"Ayse\", yas=25, sehir=\"istanbul\")\n",
        "\n",
        "#Default değerleri\n",
        "\n",
        "def my_function7(ulke = \"Turkiye\"):\n",
        "  print(\"Benim ülkem \" + ulke)\n",
        "\n",
        "my_function7()\n",
        "my_function7(\"İspanya\")\n",
        "\n",
        "#Liste + fonksiyon\n",
        "\n",
        "def my_function8(yemekler):\n",
        "  for x in yemekler:\n",
        "    print(x)\n",
        "\n",
        "liste = [\"pilav\", \"makarna\", \"kebap\"]\n",
        "\n",
        "my_function8(liste)\n",
        "\n",
        "#Return: Bir fonksiyonun değer döndürmesine izin vermek için kullanılır\n",
        "\n",
        "def my_function9(x):\n",
        "  return 5 *x\n",
        "\n",
        "print(my_function9(3))\n",
        "\n",
        "#Pass : Herhangi bir nedenle işlem içeriği boş ise pass yazılır, yazılmazsa kodda hata alınır\n",
        "\n",
        "def my_function10():\n",
        "  pass\n",
        "\n",
        "my_function10()\n",
        "\n",
        "def my_function11(*, x): #* anahtar ile girdi yapılmasını sağlar\n",
        "  print(x)\n",
        "\n",
        "my_function11(x=3)"
      ]
    },
    {
      "cell_type": "code",
      "source": [
        "#Özyinelemeli fonksiyonlar (Recursion)\n",
        "\n",
        "def faktoriyel(n):\n",
        "  if n == 0:\n",
        "    return 1 #Temel Durum\n",
        "  else:\n",
        "    return n*faktoriyel(n-1)\n",
        "\n",
        "print(faktoriyel(6))\n",
        "\n",
        "#fibonacci\n",
        "\n",
        "def fibonacci(n):\n",
        "  if n==0:\n",
        "    return 0 #Temel Durum\n",
        "  elif n==1:\n",
        "    return 1 #Temel Durum\n",
        "  else:\n",
        "    return fibonacci(n-1) + fibonacci (n-2) #Özyineleme kısmı\n",
        "\n",
        "print(fibonacci(7))"
      ],
      "metadata": {
        "colab": {
          "base_uri": "https://localhost:8080/"
        },
        "id": "UrnsrpnvRXZR",
        "outputId": "1d68bd64-889e-48c4-c39d-8b3a3ca84b80"
      },
      "execution_count": 32,
      "outputs": [
        {
          "output_type": "stream",
          "name": "stdout",
          "text": [
            "720\n",
            "13\n"
          ]
        }
      ]
    },
    {
      "cell_type": "code",
      "source": [
        "def topla(x,y):\n",
        "  return x+y\n",
        "\n",
        "sonuc = topla(5,3)\n",
        "print(sonuc)\n",
        "\n",
        "#Bir dizideki sayıların ortalamasını alan fonksiyon\n",
        "\n",
        "def ortalama(sayilar):\n",
        "  toplam = sum(sayilar)\n",
        "  adet = len(sayilar)\n",
        "\n",
        "  return toplam/adet\n",
        "\n",
        "liste = [10,20,30,40,50]\n",
        "sonuc = ortalama(liste)\n",
        "print(sonuc)\n",
        "\n"
      ],
      "metadata": {
        "colab": {
          "base_uri": "https://localhost:8080/"
        },
        "id": "ytUrVlx0Sxvl",
        "outputId": "0a60376b-c1b4-4f7a-be7b-0b46e8cceca2"
      },
      "execution_count": 34,
      "outputs": [
        {
          "output_type": "stream",
          "name": "stdout",
          "text": [
            "8\n",
            "30.0\n"
          ]
        }
      ]
    },
    {
      "cell_type": "code",
      "source": [
        "#Lambda fonksiyonu\n",
        "\n",
        "#lambda arguments : expression\n",
        "\n",
        "topla = lambda x,y : x+y\n",
        "print(topla(5,3))\n",
        "\n",
        "#Map(), #Filter, #Reduce : Yüksek dereceli fonksiyonlar\n",
        "\n",
        "\n",
        "#Map(): Bir dizi veya listenin her bir elemanına bir işlem uygulamak ve sonuçları bir map nesnesi olarak döndürmek için kullanılır\n",
        "\n",
        "sayilar = [1,2,3,4,5]\n",
        "kareler = list(map(lambda x: x**2, sayilar))\n",
        "\n",
        "print(kareler)\n",
        "\n",
        "#Filter(): Bir dizi veya listenin belirli bir koşula göre filtrelenmesini sağlar.\n",
        "\n",
        "rakamlar = [1,2,3,4,5,6,7,8,9]\n",
        "cift_sayilar = list(filter(lambda x:x %2 == 0, rakamlar))\n",
        "\n",
        "print(cift_sayilar)\n",
        "\n",
        "#Reduce() : Biz dizi veya liste üzerinde kümülatif bir işlem yapmak için kullanaıyoruz.\n",
        "\n",
        "from functools import reduce\n",
        "\n",
        "toplam = reduce(lambda x, y: x+y, sayilar)\n",
        "print(toplam)\n",
        "\n"
      ],
      "metadata": {
        "colab": {
          "base_uri": "https://localhost:8080/"
        },
        "id": "jLAUXT1bTfjb",
        "outputId": "57ad48e8-6088-465b-c753-adf5db582669"
      },
      "execution_count": 39,
      "outputs": [
        {
          "output_type": "stream",
          "name": "stdout",
          "text": [
            "8\n",
            "[1, 4, 9, 16, 25]\n",
            "[2, 4, 6, 8]\n",
            "15\n"
          ]
        }
      ]
    },
    {
      "cell_type": "code",
      "source": [
        "satis_miktarlari = [150, 200, 300, 450, 500, 650, 700, 850, 900]\n",
        "\n",
        "#Satıs miktarlarına %10 ekle map()\n",
        "\n",
        "ekleme_yap = lambda x:x*1.10\n",
        "eklemeli_satislar = map(ekleme_yap, satis_miktarlari)\n",
        "\n",
        "print(list(eklemeli_satislar))\n",
        "#Satısı 500'den fazla olan günleri filter()\n",
        "\n",
        "esik =500\n",
        "yuksek_satislar = filter(lambda x:x > esik, satis_miktarlari)\n",
        "\n",
        "print(list(yuksek_satislar))\n",
        "#Tum satıs miktarlarını topla\n",
        "\n",
        "from functools import reduce\n",
        "\n",
        "toplam_satis = reduce(lambda x, y: x+y, satis_miktarlari)\n",
        "print((toplam_satis))"
      ],
      "metadata": {
        "colab": {
          "base_uri": "https://localhost:8080/"
        },
        "id": "bbe_uPJ9WtOX",
        "outputId": "de548866-9897-408a-9da0-a4a7d432d00c"
      },
      "execution_count": 49,
      "outputs": [
        {
          "output_type": "stream",
          "name": "stdout",
          "text": [
            "[165.0, 220.00000000000003, 330.0, 495.00000000000006, 550.0, 715.0000000000001, 770.0000000000001, 935.0000000000001, 990.0000000000001]\n",
            "[650, 700, 850, 900]\n",
            "4700\n"
          ]
        }
      ]
    },
    {
      "cell_type": "code",
      "source": [
        "#MODÜLLER\n",
        "\n",
        "#Math() modülü\n",
        "\n",
        "x = min(5,10,25)\n",
        "y = max(5,10,25)\n",
        "print(x)\n",
        "print(y)\n",
        "\n",
        "#Mutlak değer alma abs()\n",
        "x = abs(-7.62)\n",
        "print(x)\n",
        "\n",
        "import math\n",
        "\n",
        "#Fabs() fonksiyonu sonucu bize her zaman float veriyor\n",
        "print(math.fabs(-6))\n",
        "\n",
        "#Üs alma\n",
        "\n",
        "x=pow(4,3)\n",
        "\n",
        "print(x)\n",
        "\n",
        "#Karekök alma\n",
        "x=math.sqrt(64)\n",
        "print(x)\n",
        "\n",
        "#ceil() bir sayıyı yukarıya doğru en yakın tam sayıya yuvarlıyor\n",
        "#floor() bir sayıyı aşağıya doğru en yakın tam sayıya yuvarlıyor\n",
        "\n",
        "x= math.ceil(1.4) #2ye yuvarlar\n",
        "y = math.floor(1.4) #1e yuvarlar\n",
        "\n",
        "print(x)\n",
        "print(y)\n",
        "\n",
        "#pi fonksiyonu : pi döndürür\n",
        "\n",
        "x= math.pi\n",
        "\n",
        "print(x)\n",
        "\n",
        "#euler sayısı\n",
        "\n",
        "print(math.e) #.e\n",
        "\n",
        "#Tau sayısı\n",
        "\n",
        "print(math.tau)\n",
        "\n",
        "#Sonsuzluk değerleri\n",
        "\n",
        "print(math.inf)\n",
        "print(-math.inf)\n",
        "\n",
        "#Copysign: x,y x'in değerini y'nin işaretini alıyor ve bir sayı yaratıyor\n",
        "#Fizik işlemlerinde daha çok kullanılır\n",
        "\n",
        "print(math.copysign(3,-2))\n",
        "\n",
        "#gcd = iki sayının en büyük ortak bölenini hesaplar\n",
        "#örn: fraksiyonları sadeleştirmek\n",
        "\n",
        "print(math.gcd(24,36))\n",
        "\n",
        "#Matematik okuyan arkadaşlar için (isteğe bağlı diğer arkadaşlar): Euler totient fonksiyonu için hesaplama yapan ve bunu da gcd fonksiyonu ile yapan örnek\n",
        "\n",
        "#Faktoriyel\n",
        "\n",
        "print(math.factorial(5))\n",
        "\n",
        "#Frexp(): Bir kayan nokta sayısını mantissa ve exponent olarak iki parçaya ayırır\n",
        "# x = m * 2^e\n",
        "\n",
        "m,e = math.frexp(40.0)\n",
        "print(\"Mantissa:\", m, \"Exponent:\", e)\n",
        "\n",
        "#Fsum : yüksek hassasiyetli toplama\n",
        "\n",
        "sayılar = [0.1, 0.1, 0.1, 0.1, 0.1, 0.1, 0.1, 0.1, 0.1, 0.1]\n",
        "print(\"Normal toplama:\", sum(sayılar))\n",
        "print(\"Fsum: \", math.fsum(sayılar))\n",
        "\n",
        "\n",
        "#Gamma fonksiyonu\n",
        "\n",
        "print(math.gamma(5))\n",
        "\n",
        "#Trigonometri Fonksiyonları\n",
        "\n",
        "derece = 45\n",
        "radyan = math.radians(derece)\n",
        "\n",
        "sin_degeri = math.sin(radyan)\n",
        "cos_degeri = math.cos(radyan)\n",
        "tan_degeri = math.tan(radyan)\n",
        "\n",
        "print(f\"{derece} derecenin sinusu: {sin_degeri}\")\n",
        "print(f\"{derece} derecenin cosinusu: {cos_degeri}\")\n",
        "print(f\"{derece} derecenin tanjantı: {tan_degeri}\")\n",
        "\n",
        "#Random modülü, Os modülü, Datetime modülü, pythonda dosya açma okuma / try-catch\n",
        "\n",
        "\n",
        "#ÖRNEKLER: (Fonksiyonlar aracılığı ile yapılacak)\n",
        "\n",
        "#Fahrenheit'tan Celsius'a veya tam tersine sıcaklık dönüştürme uygulaması\n",
        "\n",
        "#Verilen bir sayının asal olup olmadığını kontrol eden bir fonksiyon\n",
        "\n",
        "#Kullanıcan alınan sayı dizesindeki çift ve tek sayıları ayrı listelere ayıran bir fonksiyon\n",
        "\n",
        "#Bir ATM Uygulaması (Kullanıcıdan işlemleri alıcaz 1-Para yatırma, 2-Para Çekme 3-Bakiye Sorgulama) için seçenek alınıp if else yapısı ile\n",
        "#yapılacak fonksiyon\n"
      ],
      "metadata": {
        "colab": {
          "base_uri": "https://localhost:8080/"
        },
        "id": "0I9NW_B9YyDE",
        "outputId": "2d9771a7-6f8f-442b-8f0f-8072664a11d1"
      },
      "execution_count": 68,
      "outputs": [
        {
          "output_type": "stream",
          "name": "stdout",
          "text": [
            "5\n",
            "25\n",
            "7.62\n",
            "6.0\n",
            "64\n",
            "8.0\n",
            "2\n",
            "1\n",
            "3.141592653589793\n",
            "2.718281828459045\n",
            "6.283185307179586\n",
            "inf\n",
            "-inf\n",
            "-3.0\n",
            "12\n",
            "120\n",
            "Mantissa: 0.625 Exponent: 6\n",
            "Normal toplama: 0.9999999999999999\n",
            "Fsum:  1.0\n",
            "24.0\n",
            "45 derecenin sinusu: 0.7071067811865475\n",
            "45 derecenin cosinusu: 0.7071067811865476\n",
            "45 derecenin tanjantı: 0.9999999999999999\n"
          ]
        }
      ]
    }
  ]
}